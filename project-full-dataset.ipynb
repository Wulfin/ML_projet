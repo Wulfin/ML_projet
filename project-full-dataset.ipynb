{
 "cells": [
  {
   "cell_type": "markdown",
   "id": "5425ffdd-ea7e-4611-a733-e85415d2e3fe",
   "metadata": {},
   "source": [
    "# Exploration"
   ]
  },
  {
   "cell_type": "code",
   "execution_count": null,
   "id": "8fc13f79-c976-4d16-ae6e-0cd5d1735677",
   "metadata": {
    "tags": []
   },
   "outputs": [],
   "source": [
    "import os\n",
    "import pandas as pd\n",
    "import numpy as np\n",
    "import matplotlib.pyplot as plt\n",
    "import seaborn as sns\n",
    "import time"
   ]
  },
  {
   "cell_type": "code",
   "execution_count": null,
   "id": "4cdfe133-2c61-4ccb-970e-933ddd496c28",
   "metadata": {
    "tags": []
   },
   "outputs": [],
   "source": [
    "with open('Data/kddcup.names.txt', 'r') as file:\n",
    "    # Read the content of the file\n",
    "    file_content = file.read()\n",
    "    # Print the content\n",
    "    print(file_content)"
   ]
  },
  {
   "cell_type": "code",
   "execution_count": null,
   "id": "aa10a08c-25fb-4959-9b9f-9abc0fcdd63b",
   "metadata": {
    "tags": []
   },
   "outputs": [],
   "source": [
    "# Getting columns\n",
    "cols=\"\"\"duration,\n",
    "protocol_type,\n",
    "service,\n",
    "flag,\n",
    "src_bytes,\n",
    "dst_bytes,\n",
    "land,\n",
    "wrong_fragment,\n",
    "urgent,\n",
    "hot,\n",
    "num_failed_logins,\n",
    "logged_in,\n",
    "num_compromised,\n",
    "root_shell,\n",
    "su_attempted,\n",
    "num_root,\n",
    "num_file_creations,\n",
    "num_shells,\n",
    "num_access_files,\n",
    "num_outbound_cmds,\n",
    "is_host_login,\n",
    "is_guest_login,\n",
    "count,\n",
    "srv_count,\n",
    "serror_rate,\n",
    "srv_serror_rate,\n",
    "rerror_rate,\n",
    "srv_rerror_rate,\n",
    "same_srv_rate,\n",
    "diff_srv_rate,\n",
    "srv_diff_host_rate,\n",
    "dst_host_count,\n",
    "dst_host_srv_count,\n",
    "dst_host_same_srv_rate,\n",
    "dst_host_diff_srv_rate,\n",
    "dst_host_same_src_port_rate,\n",
    "dst_host_srv_diff_host_rate,\n",
    "dst_host_serror_rate,\n",
    "dst_host_srv_serror_rate,\n",
    "dst_host_rerror_rate,\n",
    "dst_host_srv_rerror_rate\"\"\"\n",
    "\n",
    "columns=[]\n",
    "for c in cols.split(','):\n",
    "    if(c.strip()):\n",
    "       columns.append(c.strip())\n",
    "    \n",
    "columns.append('target')\n",
    "print(columns)"
   ]
  },
  {
   "cell_type": "code",
   "execution_count": null,
   "id": "0cd9eb57-ea8a-45c7-a0b2-11e6e5c6409c",
   "metadata": {
    "tags": []
   },
   "outputs": [],
   "source": [
    "with open(\"Data/training_attack_types.txt\",'r') as f:\n",
    "    print(f.read())"
   ]
  },
  {
   "cell_type": "code",
   "execution_count": null,
   "id": "b2bda1ef-2807-40c3-a186-2ea998903f1a",
   "metadata": {
    "tags": []
   },
   "outputs": [],
   "source": [
    "attacks_types = {\n",
    "'normal': 'normal',\n",
    "'back': 'dos',\n",
    "'buffer_overflow': 'u2r',\n",
    "'ftp_write': 'r2l',\n",
    "'guess_passwd': 'r2l',\n",
    "'imap': 'r2l',\n",
    "'ipsweep': 'probe',\n",
    "'land': 'dos',\n",
    "'loadmodule': 'u2r',\n",
    "'multihop': 'r2l',\n",
    "'neptune': 'dos',\n",
    "'nmap': 'probe',\n",
    "'perl': 'u2r',\n",
    "'phf': 'r2l',\n",
    "'pod': 'dos',\n",
    "'portsweep': 'probe',\n",
    "'rootkit': 'u2r',\n",
    "'satan': 'probe',\n",
    "'smurf': 'dos',\n",
    "'spy': 'r2l',\n",
    "'teardrop': 'dos',\n",
    "'warezclient': 'r2l',\n",
    "'warezmaster': 'r2l',\n",
    "}"
   ]
  },
  {
   "cell_type": "markdown",
   "id": "7cfba609-cc6b-44d7-8010-0f080e3fa1ef",
   "metadata": {},
   "source": [
    "# Building the dataframe"
   ]
  },
  {
   "cell_type": "code",
   "execution_count": null,
   "id": "2f460495-7937-4a8d-a78d-4512de5a9764",
   "metadata": {
    "tags": []
   },
   "outputs": [],
   "source": [
    "df = pd.read_csv(\"Data/kddcup.data.corrected.csv\", names=columns)\n",
    "\n",
    "#Adding Attack Type column\n",
    "df['Attack Type'] = df.target.apply(lambda r:attacks_types[r[:-1]])\n",
    "df.head()"
   ]
  },
  {
   "cell_type": "code",
   "execution_count": null,
   "id": "8f99962f-79ea-4bb1-b66b-915cdbf72b81",
   "metadata": {
    "tags": []
   },
   "outputs": [],
   "source": [
    "df.shape"
   ]
  },
  {
   "cell_type": "code",
   "execution_count": null,
   "id": "0674eedc-2071-4e6b-92e9-2bbd72051d10",
   "metadata": {
    "tags": []
   },
   "outputs": [],
   "source": [
    "df['target'].value_counts()"
   ]
  },
  {
   "cell_type": "code",
   "execution_count": null,
   "id": "6ea64abd-9634-4dfb-a5ee-672c358bbeb0",
   "metadata": {
    "tags": []
   },
   "outputs": [],
   "source": [
    "df['Attack Type'].value_counts()"
   ]
  },
  {
   "cell_type": "code",
   "execution_count": null,
   "id": "7cdc7540-7e88-4a1f-bf49-cefa456a27ea",
   "metadata": {
    "tags": []
   },
   "outputs": [],
   "source": [
    "df.info()"
   ]
  },
  {
   "cell_type": "code",
   "execution_count": null,
   "id": "f94059a3-ec21-4358-987b-815af0ec067f",
   "metadata": {
    "tags": []
   },
   "outputs": [],
   "source": [
    "df.describe()"
   ]
  },
  {
   "cell_type": "code",
   "execution_count": null,
   "id": "e7f21403-9818-4422-b3e1-f00036b95325",
   "metadata": {
    "tags": []
   },
   "outputs": [],
   "source": [
    "df.describe(include='object')"
   ]
  },
  {
   "cell_type": "markdown",
   "id": "94835865-aa91-46ae-85f2-98c162681dcf",
   "metadata": {},
   "source": [
    "# Pre-processing"
   ]
  },
  {
   "cell_type": "code",
   "execution_count": null,
   "id": "b1d07334-ee3b-4c5c-a9b8-1f71746ecff0",
   "metadata": {
    "tags": []
   },
   "outputs": [],
   "source": [
    "df.isnull().sum()"
   ]
  },
  {
   "cell_type": "code",
   "execution_count": null,
   "id": "b7179b4f-1885-4b1b-a106-3563f955d904",
   "metadata": {
    "tags": []
   },
   "outputs": [],
   "source": [
    "# Number of duplicate rows\n",
    "df.duplicated().sum()"
   ]
  },
  {
   "cell_type": "code",
   "execution_count": null,
   "id": "cbb36c7f-a445-48ac-9c91-8a8c14da234f",
   "metadata": {
    "tags": []
   },
   "outputs": [],
   "source": [
    "df.drop_duplicates(inplace=True)\n",
    "df"
   ]
  },
  {
   "cell_type": "code",
   "execution_count": null,
   "id": "8c009f69-bca3-43c4-a40e-504cc6cd0245",
   "metadata": {
    "tags": []
   },
   "outputs": [],
   "source": [
    "df.shape"
   ]
  },
  {
   "cell_type": "code",
   "execution_count": null,
   "id": "078957e9-1aac-453f-9594-0cc2c8bc02d7",
   "metadata": {
    "tags": []
   },
   "outputs": [],
   "source": [
    "#Finding categorical features\n",
    "num_cols = df._get_numeric_data().columns\n",
    "\n",
    "cate_cols = list(set(df.columns)-set(num_cols))\n",
    "cate_cols.remove('target')\n",
    "cate_cols.remove('Attack Type')\n",
    "\n",
    "cate_cols"
   ]
  },
  {
   "cell_type": "code",
   "execution_count": null,
   "id": "4e6fc46d-b9f2-4cde-8c7c-07b77238cb9e",
   "metadata": {
    "tags": []
   },
   "outputs": [],
   "source": [
    "# Define a function to detect outliers using standard deviation\n",
    "def detect_outliers_std(data, threshold=3):\n",
    "    outliers = pd.DataFrame()\n",
    "    for col in df.columns:\n",
    "        mean = df[col].mean()\n",
    "        std = df[col].std()\n",
    "        outliers[col] = df[col][np.abs((df[col] - mean) / std) > threshold]\n",
    "    return outliers\n",
    "\n",
    "# Detect outliers\n",
    "outliers_std = detect_outliers_std(df, threshold=3)\n",
    "\n",
    "# Display or handle the outliers accordingly\n",
    "print(\"Outliers using Standard Deviation Method:\")\n",
    "print(outliers_std)"
   ]
  },
  {
   "cell_type": "markdown",
   "id": "064af818-75ce-43c4-8a28-a522f4350de8",
   "metadata": {},
   "source": [
    "# Visualisation"
   ]
  },
  {
   "cell_type": "code",
   "execution_count": null,
   "id": "7764644e-f584-43c9-8021-912788e956c4",
   "metadata": {
    "tags": []
   },
   "outputs": [],
   "source": [
    "%matplotlib inline\n",
    "sns.set(style=\"whitegrid\")\n",
    "\n",
    "# Create the countplot\n",
    "ax = sns.countplot(data=df, x=\"protocol_type\")\n",
    "\n",
    "# Set plot labels and title\n",
    "plt.xlabel(\"Count\")\n",
    "plt.ylabel(\"Protocol Type\")\n",
    "plt.title(\"Distribution of Protocol Types\")\n",
    "\n",
    "# Add value counts on top of each bar\n",
    "total = len(df[\"protocol_type\"])\n",
    "for p in ax.patches:\n",
    "    percentage = '{:.1f}%'.format(100 * p.get_height() / total)\n",
    "    x = p.get_x() + p.get_width() / 2\n",
    "    y = p.get_height()\n",
    "    ax.annotate(percentage, (x, y), ha='center', va='bottom')"
   ]
  },
  {
   "cell_type": "code",
   "execution_count": null,
   "id": "d47c5790-a500-4e71-9cbf-2b7968c116c6",
   "metadata": {
    "tags": []
   },
   "outputs": [],
   "source": [
    "plt.figure(figsize=(15, 3))\n",
    "sns.set(style=\"whitegrid\")\n",
    "\n",
    "# Create the countplot\n",
    "ax = sns.countplot(data=df, x=\"service\")\n",
    "\n",
    "plt.xlabel(\"Count\")\n",
    "plt.ylabel(\"Service\")\n",
    "plt.title(\"Distribution of Services\")\n",
    "plt.xticks(rotation=90)\n",
    "\n",
    "# Add value counts on top of each bar\n",
    "total = len(df[\"service\"])\n",
    "for p in ax.patches:\n",
    "    percentage = '{:.1f}%'.format(100 * p.get_height() / total)\n",
    "    x = p.get_x() + p.get_width() / 2\n",
    "    y = p.get_height()\n",
    "    if float(percentage[:-1]) > 0.5: ax.annotate(percentage, (x, y), ha='center', va='bottom')"
   ]
  },
  {
   "cell_type": "code",
   "execution_count": null,
   "id": "66308329-1c04-42d3-9923-9d13a8e215fd",
   "metadata": {
    "tags": []
   },
   "outputs": [],
   "source": [
    "sns.set(style=\"whitegrid\")\n",
    "\n",
    "# Create the countplot\n",
    "ax = sns.countplot(data=df, x=\"flag\")\n",
    "\n",
    "plt.xlabel(\"Count\")\n",
    "plt.ylabel(\"Flag\")\n",
    "plt.title(\"Distribution of Flags\")\n",
    "plt.xticks(rotation=90)\n",
    "\n",
    "# Add value counts on top of each bar\n",
    "total = len(df[\"logged_in\"])\n",
    "for p in ax.patches:\n",
    "    percentage = '{:.1f}%'.format(100 * p.get_height() / total)\n",
    "    x = p.get_x() + p.get_width() / 2\n",
    "    y = p.get_height()\n",
    "    ax.annotate(percentage, (x, y), ha='center', va='bottom')"
   ]
  },
  {
   "cell_type": "code",
   "execution_count": null,
   "id": "3cb7a6a0-fbb4-4116-9405-2881e664d879",
   "metadata": {
    "tags": []
   },
   "outputs": [],
   "source": [
    "sns.set(style=\"whitegrid\")\n",
    "\n",
    "# Create the countplot\n",
    "ax = sns.countplot(data=df, x=\"logged_in\", palette=\"viridis\")  # Using a different color palette\n",
    "\n",
    "# Set plot labels and title\n",
    "plt.xlabel(\"Logged In\")\n",
    "plt.ylabel(\"Count\")\n",
    "plt.title(\"Distribution of logged_in\")\n",
    "\n",
    "# Add value counts on top of each bar\n",
    "total = len(df[\"logged_in\"])\n",
    "for p in ax.patches:\n",
    "    percentage = '{:.1f}%'.format(100 * p.get_height() / total)\n",
    "    x = p.get_x() + p.get_width() / 2\n",
    "    y = p.get_height()\n",
    "    ax.annotate(percentage, (x, y), ha='center', va='bottom')"
   ]
  },
  {
   "cell_type": "code",
   "execution_count": null,
   "id": "eed17bf5-3af3-4798-9fdf-9c426c413e70",
   "metadata": {
    "tags": []
   },
   "outputs": [],
   "source": [
    "sns.set(style=\"whitegrid\")\n",
    "\n",
    "# Create the countplot\n",
    "ax = sns.countplot(data=df, x=\"target\", palette=\"viridis\")  # Using a different color palette\n",
    "\n",
    "# Set plot labels and title\n",
    "plt.xlabel(\"target\")\n",
    "plt.ylabel(\"Count\")\n",
    "plt.title(\"Distribution of target\")\n",
    "plt.xticks(rotation=90)\n",
    "\n",
    "# Add value counts on top of each bar\n",
    "total = len(df[\"target\"])\n",
    "for p in ax.patches:\n",
    "    percentage = '{:.1f}%'.format(100 * p.get_height() / total)\n",
    "    x = p.get_x() + p.get_width() / 2\n",
    "    y = p.get_height()\n",
    "    if float(percentage[:-1]) > 0.3: ax.annotate(percentage, (x, y), ha='center', va='bottom')"
   ]
  },
  {
   "cell_type": "code",
   "execution_count": null,
   "id": "8cf0f121-651d-4e8b-a306-2adeea4a621d",
   "metadata": {
    "tags": []
   },
   "outputs": [],
   "source": [
    "sns.set(style=\"whitegrid\")\n",
    "\n",
    "# Create the countplot\n",
    "ax = sns.countplot(data=df, x=\"Attack Type\", palette=\"viridis\")  # Using a different color palette\n",
    "\n",
    "# Set plot labels and title\n",
    "plt.xlabel(\"Attack Type\")\n",
    "plt.ylabel(\"Count\")\n",
    "plt.title(\"Distribution of Attack Type\")\n",
    "plt.xticks(rotation=90)\n",
    "\n",
    "# Add value counts on top of each bar\n",
    "total = len(df[\"Attack Type\"])\n",
    "for p in ax.patches:\n",
    "    percentage = '{:.1f}%'.format(100 * p.get_height() / total)\n",
    "    x = p.get_x() + p.get_width() / 2\n",
    "    y = p.get_height()\n",
    "    ax.annotate(percentage, (x, y), ha='center', va='bottom')"
   ]
  },
  {
   "cell_type": "code",
   "execution_count": null,
   "id": "2777a9ac-d931-4981-9e5e-1f9d112fa5c6",
   "metadata": {
    "tags": []
   },
   "outputs": [],
   "source": [
    "df['target'].value_counts()"
   ]
  },
  {
   "cell_type": "code",
   "execution_count": null,
   "id": "60287f1b-8ee7-43b7-8e05-f57d2a94dd90",
   "metadata": {
    "tags": []
   },
   "outputs": [],
   "source": [
    "df['Attack Type'].value_counts()"
   ]
  },
  {
   "cell_type": "code",
   "execution_count": null,
   "id": "ed8b66c3-6935-473a-abff-56b29f4c647a",
   "metadata": {
    "tags": []
   },
   "outputs": [],
   "source": [
    "df.columns"
   ]
  },
  {
   "cell_type": "markdown",
   "id": "5f4727b2-75b8-4f92-8c5c-9dd29d9e49db",
   "metadata": {},
   "source": [
    "# DATA CORRELATION"
   ]
  },
  {
   "cell_type": "code",
   "execution_count": null,
   "id": "b81732c8-e475-43c7-a59a-44e48a0da4cc",
   "metadata": {},
   "outputs": [],
   "source": [
    "categorical_columns = df.select_dtypes(include=['object']).columns\n",
    "categorical_columns"
   ]
  },
  {
   "cell_type": "code",
   "execution_count": null,
   "id": "41472271-c43e-4364-9419-0ed0d8660f4e",
   "metadata": {},
   "outputs": [],
   "source": [
    "from sklearn.preprocessing import LabelEncoder\n",
    "\n",
    "le_protocol = LabelEncoder()\n",
    "col = 'protocol_type'\n",
    "df[col + '_encoded'] = le_protocol.fit_transform(df[col])\n",
    "df"
   ]
  },
  {
   "cell_type": "code",
   "execution_count": null,
   "id": "1fe36e0b-a6f1-4f45-ada0-f939398a4a2c",
   "metadata": {
    "tags": []
   },
   "outputs": [],
   "source": [
    "from sklearn.preprocessing import LabelEncoder\n",
    "\n",
    "le_service = LabelEncoder()\n",
    "col = 'service'\n",
    "df[col + '_encoded'] = le_service.fit_transform(df[col])\n",
    "df"
   ]
  },
  {
   "cell_type": "code",
   "execution_count": null,
   "id": "9d55aa70-b648-4146-989e-6587f933d3db",
   "metadata": {
    "tags": []
   },
   "outputs": [],
   "source": [
    "from sklearn.preprocessing import LabelEncoder\n",
    "\n",
    "le_flag = LabelEncoder()\n",
    "col = 'flag'\n",
    "df[col + '_encoded'] = le_flag.fit_transform(df[col])\n",
    "df"
   ]
  },
  {
   "cell_type": "code",
   "execution_count": null,
   "id": "61c147ed-5d3c-4152-b854-9c0eeb86bda5",
   "metadata": {},
   "outputs": [],
   "source": [
    "from sklearn.preprocessing import LabelEncoder\n",
    "\n",
    "le_target = LabelEncoder()\n",
    "col = 'target'\n",
    "df[col + '_encoded'] = le_target.fit_transform(df[col])\n",
    "df"
   ]
  },
  {
   "cell_type": "code",
   "execution_count": null,
   "id": "604b02f7-c13d-4755-9162-dbc937146f98",
   "metadata": {},
   "outputs": [],
   "source": [
    "from sklearn.preprocessing import LabelEncoder\n",
    "\n",
    "le_Attack_type = LabelEncoder()\n",
    "col = 'Attack Type'\n",
    "df[col + '_encoded'] = le_Attack_type.fit_transform(df[col])\n",
    "df"
   ]
  },
  {
   "cell_type": "code",
   "execution_count": null,
   "id": "ea137d95-49d2-41ec-9fef-7f3597dcbc1e",
   "metadata": {
    "tags": []
   },
   "outputs": [],
   "source": [
    "categorical_columns = df.select_dtypes(include=['object']).columns.tolist()\n",
    "df = df.drop(categorical_columns, axis=1)\n",
    "df"
   ]
  },
  {
   "cell_type": "code",
   "execution_count": null,
   "id": "80971469-d4d4-4049-859c-a92ff9de2a27",
   "metadata": {
    "tags": []
   },
   "outputs": [],
   "source": [
    "df = df.dropna(axis='columns')# drop columns with NaN\n",
    "df = df[[col for col in df if df[col].nunique() > 1]]# keep columns where there are more than 1 unique values\n",
    "\n",
    "corr = df.corr()\n",
    "\n",
    "plt.figure(figsize=(15,12))\n",
    "\n",
    "sns.heatmap(corr)"
   ]
  },
  {
   "cell_type": "code",
   "execution_count": null,
   "id": "9d53ba9d-f034-4a98-a0af-f05b7900615b",
   "metadata": {
    "tags": []
   },
   "outputs": [],
   "source": [
    "# correlation coefficient between 'num_root'  and the 'num_compromised' \n",
    "df['num_root'].corr(df['num_compromised'])"
   ]
  },
  {
   "cell_type": "code",
   "execution_count": null,
   "id": "a85928f9-d6cb-4099-a3e5-fe8ae7d5451e",
   "metadata": {
    "tags": []
   },
   "outputs": [],
   "source": [
    "# correlation coefficient between 'srv_serror_rate' and 'serror_rate' \n",
    "df['srv_serror_rate'].corr(df['serror_rate'])"
   ]
  },
  {
   "cell_type": "code",
   "execution_count": null,
   "id": "0b315b5a-94e9-451d-bc68-46dd57b48bf3",
   "metadata": {
    "tags": []
   },
   "outputs": [],
   "source": [
    "# Correlation values\n",
    "correlation_dict = {}\n",
    "\n",
    "for col1 in df.columns:\n",
    "    for col2 in df.columns:\n",
    "        if df.columns.get_loc(col1) < df.columns.get_loc(col2):\n",
    "            correlation = df[col1].corr(df[col2])\n",
    "            correlation_dict[f'{col1}---{col2}'] = correlation\n",
    "\n",
    "# Descending order\n",
    "sorted_correlation_dict = {k: v for k, v in sorted(correlation_dict.items(), key=lambda item: item[1], reverse=True)}\n",
    "sorted_correlation_dict"
   ]
  },
  {
   "cell_type": "code",
   "execution_count": null,
   "id": "a924cfb7-da94-495e-87f6-d70f3793cae0",
   "metadata": {
    "tags": []
   },
   "outputs": [],
   "source": [
    "#These variables are highly correlated and should be ignored for analysis.\n",
    "#(Correlation = 0.9938277978738366 with num_compromised)\n",
    "df.drop('num_root',axis = 1,inplace = True)\n",
    "\n",
    "#(Correlation = 0.9983615072725952 with serror_rate)\n",
    "df.drop('srv_serror_rate',axis = 1,inplace = True)\n",
    "\n",
    "#(Correlation = 0.9947309539817937 with rerror_rate)\n",
    "df.drop('srv_rerror_rate',axis = 1, inplace=True)\n",
    "\n",
    "#(Correlation = 0.9993041091850098 with srv_serror_rate)\n",
    "df.drop('dst_host_srv_serror_rate',axis = 1, inplace=True)\n",
    "\n",
    "#(Correlation = 0.9869947924956001 with rerror_rate)\n",
    "df.drop('dst_host_serror_rate',axis = 1, inplace=True)\n",
    "\n",
    "#(Correlation = 0.9821663427308375 with srv_rerror_rate)\n",
    "df.drop('dst_host_rerror_rate',axis = 1, inplace=True)\n",
    "\n",
    "#(Correlation = 0.9851995540751249 with rerror_rate)\n",
    "df.drop('dst_host_srv_rerror_rate',axis = 1, inplace=True)\n",
    "\n",
    "#(Correlation = 0.9736854572953938 with dst_host_srv_count)\n",
    "df.drop('dst_host_same_srv_rate',axis = 1, inplace=True)"
   ]
  },
  {
   "cell_type": "code",
   "execution_count": null,
   "id": "366d71d7-f0b5-4bd6-82db-022a23731b6e",
   "metadata": {
    "tags": []
   },
   "outputs": [],
   "source": [
    "df"
   ]
  },
  {
   "cell_type": "code",
   "execution_count": null,
   "id": "2d85f8b6-dea5-4eae-b8b7-1a43afbc61cc",
   "metadata": {
    "tags": []
   },
   "outputs": [],
   "source": [
    "df.shape"
   ]
  },
  {
   "cell_type": "code",
   "execution_count": null,
   "id": "0ec9c59d-0547-4680-ab2a-b2399e417f49",
   "metadata": {
    "tags": []
   },
   "outputs": [],
   "source": [
    "# écart type\n",
    "df_std = df.std()\n",
    "df_std = df_std.sort_values(ascending = True)\n",
    "df_std"
   ]
  },
  {
   "cell_type": "markdown",
   "id": "145cc68f-3ef8-4eb4-ace5-a50a5a6f88fe",
   "metadata": {},
   "source": [
    "# Feature Mapping"
   ]
  },
  {
   "cell_type": "code",
   "execution_count": null,
   "id": "7f3980e4-3508-4a26-8ed2-b768bc30f0b9",
   "metadata": {
    "tags": []
   },
   "outputs": [],
   "source": [
    "df.columns"
   ]
  },
  {
   "cell_type": "code",
   "execution_count": null,
   "id": "c3de7848-8294-445a-b34d-a6bb9c6faa3c",
   "metadata": {
    "tags": []
   },
   "outputs": [],
   "source": [
    "print(df['protocol_type_encoded'].value_counts())\n",
    "print(\"\\n\")\n",
    "for code, label in enumerate(le_protocol.classes_):\n",
    "    print(f\"Integer code: {code}, Corresponding class: {label}\")"
   ]
  },
  {
   "cell_type": "code",
   "execution_count": null,
   "id": "e7553118-9a2d-4fdc-9b38-9861a39bf24a",
   "metadata": {
    "tags": []
   },
   "outputs": [],
   "source": [
    "print(df['service_encoded'].value_counts())\n",
    "print(\"\\n\")\n",
    "for code, label in enumerate(le_service.classes_):\n",
    "    print(f\"Integer code: {code}, Corresponding class: {label}\")"
   ]
  },
  {
   "cell_type": "code",
   "execution_count": null,
   "id": "9d8c46e6-b002-4ae5-9fdc-7cb7d0f06824",
   "metadata": {},
   "outputs": [],
   "source": [
    "print(df['flag_encoded'].value_counts())\n",
    "print(\"\\n\")\n",
    "for code, label in enumerate(le_flag.classes_):\n",
    "    print(f\"Integer code: {code}, Corresponding class: {label}\")"
   ]
  },
  {
   "cell_type": "code",
   "execution_count": null,
   "id": "47bc8ba8-0eac-44f3-8aec-344c256c67c7",
   "metadata": {},
   "outputs": [],
   "source": [
    "print(df['target_encoded'].value_counts())\n",
    "print(\"\\n\")\n",
    "for code, label in enumerate(le_target.classes_):\n",
    "    print(f\"Integer code: {code}, Corresponding class: {label}\")"
   ]
  },
  {
   "cell_type": "code",
   "execution_count": null,
   "id": "f2ce7435-f29d-46d8-9345-827873a794a8",
   "metadata": {
    "tags": []
   },
   "outputs": [],
   "source": [
    "print(df['Attack Type_encoded'].value_counts())\n",
    "print(\"\\n\")\n",
    "for code, label in enumerate(le_Attack_type.classes_):\n",
    "    print(f\"Integer code: {code}, Corresponding class: {label}\")"
   ]
  },
  {
   "cell_type": "markdown",
   "id": "89a6a14d-edfb-4979-a076-af478308b2a1",
   "metadata": {},
   "source": [
    "# Models"
   ]
  },
  {
   "cell_type": "code",
   "execution_count": null,
   "id": "217cd6c8-b8e9-4d7f-b495-92bca2c6eb77",
   "metadata": {
    "tags": []
   },
   "outputs": [],
   "source": [
    "from sklearn.model_selection import train_test_split\n",
    "from sklearn.preprocessing import MinMaxScaler\n",
    "from sklearn.metrics import accuracy_score"
   ]
  },
  {
   "cell_type": "code",
   "execution_count": null,
   "id": "92edfa9b-2b77-4e4a-b019-653354524775",
   "metadata": {
    "tags": []
   },
   "outputs": [],
   "source": [
    "df"
   ]
  },
  {
   "cell_type": "code",
   "execution_count": null,
   "id": "c72cb8be-8b3c-43fa-ab6c-e708cc58b72f",
   "metadata": {
    "tags": []
   },
   "outputs": [],
   "source": [
    "df = df.drop(['target_encoded',], axis=1)\n",
    "df.shape"
   ]
  },
  {
   "cell_type": "code",
   "execution_count": null,
   "id": "72b700d3-efdb-46e4-8e07-688ecbd66768",
   "metadata": {
    "tags": []
   },
   "outputs": [],
   "source": [
    "# Target variable and train set\n",
    "y = df[['Attack Type_encoded']]\n",
    "X = df.drop(['Attack Type_encoded',], axis=1)\n",
    "\n",
    "# Split test and train data \n",
    "X_train, X_test, y_train, y_test = train_test_split(X, y, test_size=0.2, random_state=42)\n",
    "print(X_train.shape, X_test.shape)\n",
    "print(y_train.shape, y_test.shape)"
   ]
  },
  {
   "cell_type": "markdown",
   "id": "c753a5af-e875-40b3-8509-fee36b38b617",
   "metadata": {},
   "source": [
    "#### GAUSSIAN NAIVE BAYES"
   ]
  },
  {
   "cell_type": "code",
   "execution_count": null,
   "id": "c4a0a17f-7e7b-41cf-9059-d17312a17244",
   "metadata": {
    "tags": []
   },
   "outputs": [],
   "source": [
    "from sklearn.naive_bayes import GaussianNB\n",
    "\n",
    "model_GNB = GaussianNB()\n",
    "\n",
    "model_GNB.fit(X_train, y_train.values.ravel())\n",
    "\n",
    "y_test_pred__GNB = model_GNB.predict(X_test)"
   ]
  },
  {
   "cell_type": "code",
   "execution_count": null,
   "id": "23a1074c-6b23-4562-974c-331709ece0d6",
   "metadata": {
    "tags": []
   },
   "outputs": [],
   "source": [
    "from sklearn.metrics import classification_report, confusion_matrix\n",
    "from sklearn.metrics import ConfusionMatrixDisplay\n",
    "\n",
    "print(classification_report(y_test, y_test_pred__GNB))\n",
    "\n",
    "cm1 = confusion_matrix(y_test, y_test_pred__GNB)\n",
    "cm1"
   ]
  },
  {
   "cell_type": "code",
   "execution_count": null,
   "id": "577c4645-c752-4cdb-940a-4f3bd68e933d",
   "metadata": {
    "tags": []
   },
   "outputs": [],
   "source": [
    "disp = ConfusionMatrixDisplay(confusion_matrix=cm1)\n",
    "disp.plot()"
   ]
  },
  {
   "cell_type": "code",
   "execution_count": null,
   "id": "7134fd49-f30f-4fe1-8d78-65b27f7d9d5a",
   "metadata": {
    "tags": []
   },
   "outputs": [],
   "source": [
    "from sklearn.model_selection import learning_curve\n",
    "\n",
    "N, train_score, val_score = learning_curve(model_GNB, X_train, y_train.values.ravel(),\n",
    "                                           train_sizes=np.linspace(0.1, 1.0, 20), cv=5)\n",
    "\n",
    "print(N)\n",
    "plt.plot(N, train_score.mean(axis=1), label='train')\n",
    "plt.plot(N, val_score.mean(axis=1), label='validation')\n",
    "plt.xlabel('train_sizes')\n",
    "plt.legend()"
   ]
  },
  {
   "cell_type": "markdown",
   "id": "67e37092-7de5-4851-8b3e-c8b8951a3dce",
   "metadata": {},
   "source": [
    "#### SGDClassifier"
   ]
  },
  {
   "cell_type": "code",
   "execution_count": null,
   "id": "14c77aee-4dda-492d-aaf2-4a1bac2bb800",
   "metadata": {
    "tags": []
   },
   "outputs": [],
   "source": [
    "from sklearn.linear_model import SGDClassifier\n",
    "\n",
    "sgd_classifier = SGDClassifier(loss='hinge', alpha=0.0001, max_iter=1200000, random_state=42)\n",
    "\n",
    "sgd_classifier.fit(X_train, y_train.values.ravel())\n",
    "\n",
    "# Make predictions on the test set\n",
    "y_test_pred_SGD = sgd_classifier.predict(X_test)"
   ]
  },
  {
   "cell_type": "code",
   "execution_count": null,
   "id": "d97fb9ca-4746-4e5f-9d9a-bd57c594d37f",
   "metadata": {
    "tags": []
   },
   "outputs": [],
   "source": [
    "from sklearn.metrics import classification_report, confusion_matrix\n",
    "from sklearn.metrics import ConfusionMatrixDisplay\n",
    "\n",
    "print(classification_report(y_test, y_test_pred_SGD))\n",
    "\n",
    "cm4 = confusion_matrix(y_test, y_test_pred_SGD)\n",
    "cm4"
   ]
  },
  {
   "cell_type": "code",
   "execution_count": null,
   "id": "1f439ab7-9579-4aeb-8645-7b98d1692c06",
   "metadata": {
    "tags": []
   },
   "outputs": [],
   "source": [
    "disp = ConfusionMatrixDisplay(confusion_matrix=cm4)\n",
    "disp.plot()"
   ]
  },
  {
   "cell_type": "code",
   "execution_count": null,
   "id": "2b11b109-03f5-41f2-9c03-6310537da296",
   "metadata": {
    "tags": []
   },
   "outputs": [],
   "source": [
    "from sklearn.model_selection import learning_curve\n",
    "\n",
    "N, train_score, val_score = learning_curve(sgd_classifier, X_train, y_train.values.ravel(),\n",
    "                                           train_sizes=np.linspace(0.1, 1.0, 20), cv=5)\n",
    "\n",
    "print(N)\n",
    "plt.plot(N, train_score.mean(axis=1), label='train')\n",
    "plt.plot(N, val_score.mean(axis=1), label='validation')\n",
    "plt.xlabel('train_sizes')\n",
    "plt.legend()"
   ]
  },
  {
   "cell_type": "markdown",
   "id": "5d7ddde8-5cc2-42d0-b30c-cb44e3d206d9",
   "metadata": {},
   "source": [
    "#### LOGISTIC REGRESSION"
   ]
  },
  {
   "cell_type": "code",
   "execution_count": null,
   "id": "3544d693-e2e9-4fd0-82f7-5aabd3051d28",
   "metadata": {
    "tags": []
   },
   "outputs": [],
   "source": [
    "from sklearn.linear_model import LogisticRegression\n",
    "\n",
    "model_LR = LogisticRegression(max_iter=1200000, multi_class='ovr')\n",
    "\n",
    "model_LR.fit(X_train, y_train.values.ravel())\n",
    "\n",
    "y_test_pred_LR = model_LR.predict(X_test)"
   ]
  },
  {
   "cell_type": "code",
   "execution_count": null,
   "id": "6b18079b-7093-42df-ba8d-ba7880051f20",
   "metadata": {
    "tags": []
   },
   "outputs": [],
   "source": [
    "from sklearn.metrics import classification_report, confusion_matrix\n",
    "from sklearn.metrics import ConfusionMatrixDisplay\n",
    "\n",
    "print(classification_report(y_test, y_test_pred_LR))\n",
    "\n",
    "cm2 = confusion_matrix(y_test, y_test_pred_LR)\n",
    "cm2"
   ]
  },
  {
   "cell_type": "code",
   "execution_count": null,
   "id": "8f16b817-cd0b-47ef-985c-353e6600aaf4",
   "metadata": {
    "tags": []
   },
   "outputs": [],
   "source": [
    "disp = ConfusionMatrixDisplay(confusion_matrix=cm2)\n",
    "disp.plot()"
   ]
  },
  {
   "cell_type": "markdown",
   "id": "1b1a9518-ce59-4942-af90-3e8deba0cb30",
   "metadata": {},
   "source": [
    "#### DECISION TREE"
   ]
  },
  {
   "cell_type": "code",
   "execution_count": null,
   "id": "017a536e-fc37-41e9-bd01-cea6c55962d0",
   "metadata": {
    "tags": []
   },
   "outputs": [],
   "source": [
    "#Decision Tree \n",
    "from sklearn.tree import DecisionTreeClassifier\n",
    "\n",
    "model_DT = DecisionTreeClassifier(criterion=\"entropy\", max_depth = 4)\n",
    "\n",
    "model_DT.fit(X_train, y_train.values.ravel())\n",
    "\n",
    "y_test_pred_DT = model_DT.predict(X_test)"
   ]
  },
  {
   "cell_type": "code",
   "execution_count": null,
   "id": "d3e98ee6-6d26-4eb3-9fec-acd3c0902add",
   "metadata": {
    "tags": []
   },
   "outputs": [],
   "source": [
    "from sklearn.metrics import classification_report, confusion_matrix\n",
    "from sklearn.metrics import ConfusionMatrixDisplay\n",
    "\n",
    "print(classification_report(y_test, y_test_pred_DT))\n",
    "\n",
    "cm3 = confusion_matrix(y_test, y_test_pred_DT)\n",
    "cm3"
   ]
  },
  {
   "cell_type": "code",
   "execution_count": null,
   "id": "8f7ab0b0-f2da-4b43-a226-e2f79146d20b",
   "metadata": {
    "tags": []
   },
   "outputs": [],
   "source": [
    "disp = ConfusionMatrixDisplay(confusion_matrix=cm3)\n",
    "disp.plot()"
   ]
  },
  {
   "cell_type": "code",
   "execution_count": null,
   "id": "248ad3ee-7a33-4580-96c3-96f66bc35dc7",
   "metadata": {
    "tags": []
   },
   "outputs": [],
   "source": [
    "from sklearn.model_selection import learning_curve\n",
    "\n",
    "N, train_score, val_score = learning_curve(model_DT, X_train, y_train,\n",
    "                                           train_sizes=np.linspace(0.1, 1.0, 20), cv=5)\n",
    "\n",
    "print(N)\n",
    "plt.plot(N, train_score.mean(axis=1), label='train')\n",
    "plt.plot(N, val_score.mean(axis=1), label='validation')\n",
    "plt.xlabel('train_sizes')\n",
    "plt.legend()"
   ]
  }
 ],
 "metadata": {
  "kernelspec": {
   "display_name": "Python 3 (ipykernel)",
   "language": "python",
   "name": "python3"
  },
  "language_info": {
   "codemirror_mode": {
    "name": "ipython",
    "version": 3
   },
   "file_extension": ".py",
   "mimetype": "text/x-python",
   "name": "python",
   "nbconvert_exporter": "python",
   "pygments_lexer": "ipython3",
   "version": "3.11.5"
  }
 },
 "nbformat": 4,
 "nbformat_minor": 5
}
